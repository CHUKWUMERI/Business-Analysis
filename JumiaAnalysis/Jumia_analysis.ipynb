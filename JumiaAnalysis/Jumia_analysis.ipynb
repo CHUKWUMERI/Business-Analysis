{
 "cells": [
  {
   "cell_type": "code",
   "execution_count": 1,
   "metadata": {},
   "outputs": [],
   "source": [
    "import pandas as pd\n",
    "import numpy as np\n",
    "import seaborn as sns\n",
    "import matplotlib.pyplot as plt\n",
    "%matplotlib inline"
   ]
  },
  {
   "cell_type": "code",
   "execution_count": null,
   "metadata": {},
   "outputs": [],
   "source": [
    "# 1. High Quality - \n",
    "# 2. Price\n",
    "\n",
    "# 1. Price\n",
    "# 2. Quality"
   ]
  },
  {
   "cell_type": "code",
   "execution_count": 2,
   "metadata": {
    "scrolled": true
   },
   "outputs": [
    {
     "data": {
      "text/html": [
       "<div>\n",
       "<style scoped>\n",
       "    .dataframe tbody tr th:only-of-type {\n",
       "        vertical-align: middle;\n",
       "    }\n",
       "\n",
       "    .dataframe tbody tr th {\n",
       "        vertical-align: top;\n",
       "    }\n",
       "\n",
       "    .dataframe thead th {\n",
       "        text-align: right;\n",
       "    }\n",
       "</style>\n",
       "<table border=\"1\" class=\"dataframe\">\n",
       "  <thead>\n",
       "    <tr style=\"text-align: right;\">\n",
       "      <th></th>\n",
       "      <th>brand</th>\n",
       "      <th>current_price</th>\n",
       "      <th>old_price</th>\n",
       "      <th>discount</th>\n",
       "      <th>description</th>\n",
       "      <th>ratings</th>\n",
       "      <th>times_reviewed</th>\n",
       "    </tr>\n",
       "  </thead>\n",
       "  <tbody>\n",
       "    <tr>\n",
       "      <th>0</th>\n",
       "      <td>Gionee</td>\n",
       "      <td>₦ 48,000</td>\n",
       "      <td>₦ 73,630</td>\n",
       "      <td>-35%</td>\n",
       "      <td>Gionee K3 (M100) 4GB+64GB 6.22 Inch HD+ Androi...</td>\n",
       "      <td>70</td>\n",
       "      <td>10</td>\n",
       "    </tr>\n",
       "    <tr>\n",
       "      <th>1</th>\n",
       "      <td>Nokia</td>\n",
       "      <td>₦ 59,520</td>\n",
       "      <td>₦ 119,660</td>\n",
       "      <td>-50%</td>\n",
       "      <td>7， 5.2-inch (4GB, 64GB ROM) Android 7.1, 16MP ...</td>\n",
       "      <td>76</td>\n",
       "      <td>10</td>\n",
       "    </tr>\n",
       "    <tr>\n",
       "      <th>2</th>\n",
       "      <td>UMIDIGI</td>\n",
       "      <td>₦ 25,990</td>\n",
       "      <td>₦ 29,990</td>\n",
       "      <td>-13%</td>\n",
       "      <td>A3S Android 10 Global Band 3950mAh 5.7\" Smartp...</td>\n",
       "      <td>86</td>\n",
       "      <td>99</td>\n",
       "    </tr>\n",
       "    <tr>\n",
       "      <th>3</th>\n",
       "      <td>Nokia</td>\n",
       "      <td>₦ 42,990</td>\n",
       "      <td>₦ 70,485</td>\n",
       "      <td>-39%</td>\n",
       "      <td>3.2 3GB RAM 32GB 6.26 Inch 13MP Camera Dual SI...</td>\n",
       "      <td>81</td>\n",
       "      <td>104</td>\n",
       "    </tr>\n",
       "    <tr>\n",
       "      <th>4</th>\n",
       "      <td>UMIDIGI</td>\n",
       "      <td>₦ 25,990</td>\n",
       "      <td>₦ 29,990</td>\n",
       "      <td>-13%</td>\n",
       "      <td>A3S Android 10 Global Band 3950mAh 5.7\" Smartp...</td>\n",
       "      <td>78</td>\n",
       "      <td>148</td>\n",
       "    </tr>\n",
       "  </tbody>\n",
       "</table>\n",
       "</div>"
      ],
      "text/plain": [
       "     brand current_price   old_price discount  \\\n",
       "0   Gionee     ₦ 48,000    ₦ 73,630      -35%   \n",
       "1    Nokia     ₦ 59,520   ₦ 119,660      -50%   \n",
       "2  UMIDIGI     ₦ 25,990    ₦ 29,990      -13%   \n",
       "3    Nokia     ₦ 42,990    ₦ 70,485      -39%   \n",
       "4  UMIDIGI     ₦ 25,990    ₦ 29,990      -13%   \n",
       "\n",
       "                                         description  ratings  times_reviewed  \n",
       "0  Gionee K3 (M100) 4GB+64GB 6.22 Inch HD+ Androi...       70              10  \n",
       "1  7， 5.2-inch (4GB, 64GB ROM) Android 7.1, 16MP ...       76              10  \n",
       "2  A3S Android 10 Global Band 3950mAh 5.7\" Smartp...       86              99  \n",
       "3  3.2 3GB RAM 32GB 6.26 Inch 13MP Camera Dual SI...       81             104  \n",
       "4  A3S Android 10 Global Band 3950mAh 5.7\" Smartp...       78             148  "
      ]
     },
     "execution_count": 2,
     "metadata": {},
     "output_type": "execute_result"
    }
   ],
   "source": [
    "data = pd.read_csv('jumia.csv.xls')\n",
    "data.head()"
   ]
  },
  {
   "cell_type": "code",
   "execution_count": 3,
   "metadata": {},
   "outputs": [
    {
     "data": {
      "text/html": [
       "<div>\n",
       "<style scoped>\n",
       "    .dataframe tbody tr th:only-of-type {\n",
       "        vertical-align: middle;\n",
       "    }\n",
       "\n",
       "    .dataframe tbody tr th {\n",
       "        vertical-align: top;\n",
       "    }\n",
       "\n",
       "    .dataframe thead th {\n",
       "        text-align: right;\n",
       "    }\n",
       "</style>\n",
       "<table border=\"1\" class=\"dataframe\">\n",
       "  <thead>\n",
       "    <tr style=\"text-align: right;\">\n",
       "      <th></th>\n",
       "      <th>brand</th>\n",
       "      <th>current_price</th>\n",
       "      <th>old_price</th>\n",
       "      <th>discount</th>\n",
       "      <th>description</th>\n",
       "      <th>ratings</th>\n",
       "      <th>times_reviewed</th>\n",
       "    </tr>\n",
       "  </thead>\n",
       "  <tbody>\n",
       "  </tbody>\n",
       "</table>\n",
       "</div>"
      ],
      "text/plain": [
       "Empty DataFrame\n",
       "Columns: [brand, current_price, old_price, discount, description, ratings, times_reviewed]\n",
       "Index: []"
      ]
     },
     "execution_count": 3,
     "metadata": {},
     "output_type": "execute_result"
    }
   ],
   "source": [
    "# checking for duplicate rows\n",
    "data[data.duplicated()]"
   ]
  },
  {
   "cell_type": "code",
   "execution_count": 4,
   "metadata": {},
   "outputs": [
    {
     "name": "stdout",
     "output_type": "stream",
     "text": [
      "<class 'pandas.core.frame.DataFrame'>\n",
      "RangeIndex: 508 entries, 0 to 507\n",
      "Data columns (total 7 columns):\n",
      "brand             502 non-null object\n",
      "current_price     508 non-null object\n",
      "old_price         350 non-null object\n",
      "discount          508 non-null object\n",
      "description       508 non-null object\n",
      "ratings           508 non-null int64\n",
      "times_reviewed    508 non-null int64\n",
      "dtypes: int64(2), object(5)\n",
      "memory usage: 27.9+ KB\n"
     ]
    }
   ],
   "source": [
    "data.info()"
   ]
  },
  {
   "cell_type": "code",
   "execution_count": 5,
   "metadata": {},
   "outputs": [
    {
     "name": "stderr",
     "output_type": "stream",
     "text": [
      "C:\\Users\\User\\Anaconda3\\lib\\site-packages\\pandas\\core\\indexing.py:190: SettingWithCopyWarning: \n",
      "A value is trying to be set on a copy of a slice from a DataFrame\n",
      "\n",
      "See the caveats in the documentation: http://pandas.pydata.org/pandas-docs/stable/indexing.html#indexing-view-versus-copy\n",
      "  self._setitem_with_indexer(indexer, value)\n"
     ]
    }
   ],
   "source": [
    "# cleaning the current price column\n",
    "data['current_price'] = data['current_price'].str[1:].str.replace(',','').astype('int')\n",
    "\n",
    "# cleaning the old price column\n",
    "data['old_price'] = data['old_price'].str.replace('[₦\\s,]', '')\n",
    "data['old_price'] = data['old_price'].fillna(0).astype('int')\n",
    "\n",
    "# cleaning the discount column\n",
    "data['discount'] = data['discount'].str.strip('[% ₦]') \n",
    "data['discount'].loc[data['discount'].apply(lambda x: len(str(x)) > 4)] = 0\n",
    "\n",
    "# cleaning the ratings column\n",
    "data.ratings = data.ratings.apply(lambda x: 5*x/100)"
   ]
  },
  {
   "cell_type": "markdown",
   "metadata": {},
   "source": [
    "## Method 1\n",
    "\n",
    "Leverages on the pandas regular expression methods (extractall) to find matching patterns, then those matching patterns will be returned as a series which is then used to create a column within the dataframe"
   ]
  },
  {
   "cell_type": "code",
   "execution_count": 6,
   "metadata": {},
   "outputs": [],
   "source": [
    "# Creating a function that will help the data cleaning task\n",
    "def clean_description(series, col):\n",
    "    \"\"\"\n",
    "    clean_description(series, col)\n",
    "    \n",
    "    This function takes in a series and creates a column for that series within the an already existing dataframe. \n",
    "    It takes in two parameters:\n",
    "    \n",
    "    Parameters\n",
    "    ----------\n",
    "    series: pd.Series\n",
    "        An already existing series object\n",
    "    col: str\n",
    "        Column name for the series object\n",
    "    \n",
    "    Returns\n",
    "    ------\n",
    "    Dataframe\n",
    "    \"\"\"\n",
    "    # creating the column\n",
    "    data[col] = np.NaN \n",
    "    \n",
    "    # selecting the subset of our dataframe that are present in the series argument\n",
    "    subset = data.loc[series.index] \n",
    "    \n",
    "    subset[col] = series # fitting the subset of dataframe with values from the series\n",
    "    data.loc[series.index] = subset # replacing the portion of the dataframe with our subset"
   ]
  },
  {
   "cell_type": "markdown",
   "metadata": {},
   "source": [
    "## Method 2\n",
    "\n",
    "Using the re library to match patterns that automatically return a dataframe that can then be concatenated to the existing dataframe. "
   ]
  },
  {
   "cell_type": "code",
   "execution_count": 7,
   "metadata": {},
   "outputs": [],
   "source": [
    "def clean(pattern, cols, names):\n",
    "    import re\n",
    "    \"\"\"\n",
    "    clean(pattern, cols, names)\n",
    "    \n",
    "    This function takes a pattern and returns a series or dataframe (depending on the way it matches). It takes in \n",
    "    three parameters:\n",
    "        \n",
    "    Parameters\n",
    "    ----------\n",
    "    pattern : str\n",
    "        A regular expression that matches one or more options. \n",
    "            \n",
    "    col : list\n",
    "        A list that selects out the matched dataframe \n",
    "        \n",
    "    names : list\n",
    "        A list of strings that will replace the name of the columns within the dataframe\n",
    "        \n",
    "    Returns\n",
    "    -------\n",
    "    DataFrame\n",
    "    \"\"\"\n",
    "    match = data['description'].apply(lambda x: re.findall(pattern, x))\n",
    "    match_df = match.apply(lambda x: ','.join(x))\n",
    "    match_df.columns = names\n",
    "    return match_df.apply(lambda x: x.replace(['', None], np.NaN))"
   ]
  },
  {
   "cell_type": "markdown",
   "metadata": {},
   "source": [
    "### Extracting the Rom and Ram"
   ]
  },
  {
   "cell_type": "code",
   "execution_count": 8,
   "metadata": {},
   "outputs": [],
   "source": [
    "# Extracting the rom and ram\n",
    "ram_rom = data['description'].str.extractall('(\\d+GB)')\n",
    "\n",
    "# selecting the rom from ram_rom\n",
    "rom = ram_rom.xs(1, level = 'match')[0].str.replace('GB', '').astype('int')\n",
    "clean_description(rom, 'rom') # creating the rom column\n",
    "\n",
    "# selecting the ram from ram_rom\n",
    "ram = ram_rom.xs(0, level = 'match')[0].str.replace('GB', '').astype('int')\n",
    "clean_description(ram, 'ram') # creating the ram column"
   ]
  },
  {
   "cell_type": "markdown",
   "metadata": {},
   "source": [
    "### Cleaning the Rom and Ram Columns"
   ]
  },
  {
   "cell_type": "code",
   "execution_count": 9,
   "metadata": {},
   "outputs": [
    {
     "name": "stdout",
     "output_type": "stream",
     "text": [
      "The index of the abnormal value within the rom_ series is: 114\n",
      "The index of the abnormal value within the ram_ series are: Int64Index([22, 134, 161, 362, 440], dtype='int64')\n"
     ]
    },
    {
     "name": "stderr",
     "output_type": "stream",
     "text": [
      "C:\\Users\\User\\Anaconda3\\lib\\site-packages\\pandas\\core\\frame.py:4025: SettingWithCopyWarning: \n",
      "A value is trying to be set on a copy of a slice from a DataFrame\n",
      "\n",
      "See the caveats in the documentation: http://pandas.pydata.org/pandas-docs/stable/indexing.html#indexing-view-versus-copy\n",
      "  return super(DataFrame, self).rename(**kwargs)\n"
     ]
    }
   ],
   "source": [
    "# Indexing out the data points where ram is bigger than rom \n",
    "mismatched = data[data['rom'] < data['ram']]\n",
    "mismatched.rename(columns = {\"ram\":'rom', 'rom':'ram'}, inplace = True) # renaming the column to correct the abnormal\n",
    "\n",
    "# rematching the values back to the dataframe\n",
    "data.loc[mismatched.index] = mismatched\n",
    "\n",
    "# the ram of a phone is rarely above 12\n",
    "abnormal_ram = data[data.ram > 12]\n",
    "\n",
    "# indexing out abnormal matches for the ram_rom column\n",
    "ram_ = data['description'].str.extractall('([\\d\\+]+[GM]B)|([\\d]+R[oaOA][mM])').xs(0, level = 'match')[0]\n",
    "rom_ = data['description'].str.extractall('([\\d\\+]+[GM]B)|([\\d]+R[oaOA][mM])').xs(1, level = 'match')\n",
    "\n",
    "# getting the index of the mismatch\n",
    "print('The index of the abnormal value within the rom_ series is:', \n",
    "      rom_[1][rom_[1] == '3RAM'].index[0])\n",
    "\n",
    "# extracting values within the series ram_ that have unusual output\n",
    "print('The index of the abnormal value within the ram_ series are:', \n",
    "      ram_.str.extractall('(\\d\\+\\d*)').xs(0, level='match').index)"
   ]
  },
  {
   "cell_type": "code",
   "execution_count": 10,
   "metadata": {
    "scrolled": true
   },
   "outputs": [],
   "source": [
    "# cleaning index 362 and 440\n",
    "abnormal_ram['rom'].copy()[[362, 440, 114]] = 3\n",
    "\n",
    "# cleaning index 22 and 161\n",
    "abnormal_ram['rom'].copy()[[22, 161]] = 4\n",
    "\n",
    "# cleaning index 134\n",
    "abnormal_ram['rom'].copy()[134] = 2\n",
    "\n",
    "# cleaning index 382\n",
    "abnormal_ram['rom'].copy()[382] = 0.008\n",
    "\n",
    "# cleaning index 482\n",
    "abnormal_ram['rom'].copy()[482] = 0.542\n",
    "\n",
    "# renaming the column to correct the abnormal\n",
    "abnormal_ram.rename(columns = {\"ram\":'rom', 'rom':'ram'}, inplace = True) \n",
    "\n",
    "# rematching the values back to the dataframe\n",
    "data.loc[abnormal_ram.index] = abnormal_ram"
   ]
  },
  {
   "cell_type": "markdown",
   "metadata": {},
   "source": [
    "### Extracting the Battery, Camera quality, Sim, Screen dimension and O.S. Versions"
   ]
  },
  {
   "cell_type": "code",
   "execution_count": 11,
   "metadata": {},
   "outputs": [],
   "source": [
    "# selecting out values that match the mah values of battery\n",
    "battery = data['description'].str.extractall('([\\d,]*[\\s]*[Mm][aA][hH])').xs(0, level = 'match')[0].str.replace('([Mm][aA][hH])', '').str.replace(',', '').astype(float)\n",
    "\n",
    "clean_description(battery, 'battery') # creating the battery column"
   ]
  },
  {
   "cell_type": "code",
   "execution_count": 12,
   "metadata": {},
   "outputs": [],
   "source": [
    "# extracting the megapixel of phones\n",
    "camera = data['description'].str.extractall('([\\d.]*MP)').xs(0, level = 'match')[0].str.replace('MP','').str.strip('.').replace('', np.NaN).astype(float)\n",
    "\n",
    "clean_description(camera, 'camera') # creating the battery column"
   ]
  },
  {
   "cell_type": "code",
   "execution_count": 13,
   "metadata": {},
   "outputs": [],
   "source": [
    "# extracting the sim ports of phones\n",
    "sims = data['description'].str.extractall('([\\w]*[\\s]*[Ss][iI][Mm])|([\\w]*[\\s]*[Ss]lots)').xs(0, level='match')\n",
    "sims = sims[0].combine_first(sims[1])\n",
    "\n",
    "clean_description(sims, 'sim port') # creating the sim port column"
   ]
  },
  {
   "cell_type": "code",
   "execution_count": 14,
   "metadata": {},
   "outputs": [],
   "source": [
    "# extracting the screen dimension of phones\n",
    "screen = data['description'].str.extractall('(\\d*\\.\\d*[\\'\"])|([\\d.\\'\"-]*[\\s]*[Ii][nN][Cc][Hh])').xs(0, level='match')\n",
    "screen = screen[0].combine_first(screen[1])\n",
    "screen = screen.str.replace('[\\'\"iInch-]', '').astype(float)\n",
    "clean_description(screen, 'screen_dim') # creating the screen dimension column"
   ]
  },
  {
   "cell_type": "code",
   "execution_count": 15,
   "metadata": {},
   "outputs": [],
   "source": [
    "android = data['description'].str.extractall(\"([Aa]ndr[oi]*d [\\s\\d.-]{,3})\").xs(0, level = 'match')[0].str.replace('[Aa]ndr[oi]*d[\\s-]*', '').str.strip('.').replace('', np.NaN).astype(float)\n",
    "\n",
    "clean_description(android, 'android_ver') # creating the Android version column"
   ]
  },
  {
   "cell_type": "code",
   "execution_count": 16,
   "metadata": {},
   "outputs": [
    {
     "data": {
      "text/plain": [
       "brand               6\n",
       "current_price       0\n",
       "old_price           0\n",
       "discount            0\n",
       "description         0\n",
       "ratings             0\n",
       "times_reviewed      0\n",
       "rom                46\n",
       "ram                52\n",
       "battery           292\n",
       "camera            177\n",
       "sim port          303\n",
       "screen_dim         67\n",
       "android_ver       227\n",
       "dtype: int64"
      ]
     },
     "execution_count": 16,
     "metadata": {},
     "output_type": "execute_result"
    }
   ],
   "source": [
    "data.isnull().sum()"
   ]
  },
  {
   "cell_type": "markdown",
   "metadata": {},
   "source": [
    "### Cleaning Null Values"
   ]
  },
  {
   "cell_type": "code",
   "execution_count": 17,
   "metadata": {},
   "outputs": [],
   "source": [
    "data['brand'].fillna(data['brand'].mode()[0], inplace = True)\n",
    "data['rom'].fillna(data['rom'].median(), inplace = True)\n",
    "data['ram'].fillna(data['ram'].median(), inplace = True) # mode and median are the same\n",
    "data['battery'].fillna(data['battery'].median(), inplace = True)\n",
    "data['camera'].fillna(data['camera'].median(), inplace = True) # median and mean are the same\n",
    "data['sim port'].fillna(data['sim port'].mode()[0], inplace = True) # mode is for filling categorical data\n",
    "data['screen_dim'].fillna(data['screen_dim'].median(), inplace = True) # median and mean are the same\n",
    "data['android_ver'].fillna(data['android_ver'].median(), inplace = True)"
   ]
  },
  {
   "cell_type": "code",
   "execution_count": 18,
   "metadata": {},
   "outputs": [
    {
     "data": {
      "text/plain": [
       "brand             0\n",
       "current_price     0\n",
       "old_price         0\n",
       "discount          0\n",
       "description       0\n",
       "ratings           0\n",
       "times_reviewed    0\n",
       "rom               0\n",
       "ram               0\n",
       "battery           0\n",
       "camera            0\n",
       "sim port          0\n",
       "screen_dim        0\n",
       "android_ver       0\n",
       "dtype: int64"
      ]
     },
     "execution_count": 18,
     "metadata": {},
     "output_type": "execute_result"
    }
   ],
   "source": [
    "data.isnull().sum()"
   ]
  },
  {
   "cell_type": "code",
   "execution_count": 19,
   "metadata": {},
   "outputs": [],
   "source": [
    "data.to_csv('Jumia_clean.csv', index = False)"
   ]
  },
  {
   "cell_type": "markdown",
   "metadata": {},
   "source": [
    "## Analysis of the Data"
   ]
  },
  {
   "cell_type": "code",
   "execution_count": 20,
   "metadata": {},
   "outputs": [],
   "source": [
    "brands = pd.get_dummies(data['brand'])"
   ]
  },
  {
   "cell_type": "code",
   "execution_count": 21,
   "metadata": {},
   "outputs": [],
   "source": [
    "corr_data = pd.concat([brands, data], axis = 1)"
   ]
  },
  {
   "cell_type": "code",
   "execution_count": 22,
   "metadata": {},
   "outputs": [
    {
     "data": {
      "text/plain": [
       "rom            0.594765\n",
       "ram            0.564471\n",
       "Samsung        0.396289\n",
       "screen_dim     0.345991\n",
       "Elephone       0.294111\n",
       "old_price      0.293866\n",
       "camera         0.292390\n",
       "Oneplus        0.164135\n",
       "android_ver    0.149642\n",
       "battery        0.116763\n",
       "Name: current_price, dtype: float64"
      ]
     },
     "execution_count": 22,
     "metadata": {},
     "output_type": "execute_result"
    }
   ],
   "source": [
    "corr_data.corr()['current_price'][corr_data.corr()['current_price'] >= 0.1].sort_values(ascending = False)[1:]"
   ]
  },
  {
   "cell_type": "code",
   "execution_count": 23,
   "metadata": {},
   "outputs": [
    {
     "data": {
      "text/plain": [
       "ram           0.455032\n",
       "rom           0.428723\n",
       "Samsung       0.267196\n",
       "battery       0.256389\n",
       "screen_dim    0.222505\n",
       "Blackview     0.150582\n",
       "Name: old_price, dtype: float64"
      ]
     },
     "execution_count": 23,
     "metadata": {},
     "output_type": "execute_result"
    }
   ],
   "source": [
    "corr_data.drop('current_price', axis = 1).corr()['old_price'][corr_data.corr()['old_price'] >= 0.1].sort_values(ascending = False)[1:]"
   ]
  },
  {
   "cell_type": "code",
   "execution_count": 24,
   "metadata": {},
   "outputs": [
    {
     "data": {
      "text/plain": [
       "ram           0.455032\n",
       "rom           0.428723\n",
       "Samsung       0.267196\n",
       "battery       0.256389\n",
       "screen_dim    0.222505\n",
       "Blackview     0.150582\n",
       "Nokia         0.136979\n",
       "Tecno         0.121520\n",
       "Itel          0.121002\n",
       "Name: old_price, dtype: float64"
      ]
     },
     "execution_count": 24,
     "metadata": {},
     "output_type": "execute_result"
    }
   ],
   "source": [
    "corr_data.drop('current_price', axis = 1).corr()['old_price'].abs()[corr_data.drop('current_price', axis = 1).corr()['old_price'].abs() >= 0.1].sort_values(ascending = False)[1:]"
   ]
  },
  {
   "cell_type": "markdown",
   "metadata": {},
   "source": [
    "The correlation relationship show that the size of the rom and ram has the biggest biggest influence of the prices of phones. When the phones are initially listed (old prices), the samsung brand, battery and screeen dimension all have a low positive (less than 0.3) correlation and are in that order. \n",
    "\n",
    "Although the battery was one of the top factors to consider when the price of the phones were initially set, however, when the prices were set, they fell down the pecking order. Screen dimension, camera quality and android version became factors to consider before the battery. \n",
    "\n",
    "The correlation relationship also showed that itel, techno and nokia were negatively correlated with the listing price. That is once a phone is either itel, techno or nokia, the prices are often low. "
   ]
  },
  {
   "cell_type": "markdown",
   "metadata": {},
   "source": [
    "# data[(data['android_ver'] == 9) & (data['screen_dim'] > 6) & (data['rom'] > 100) & (data['camera'] > 16)]\n",
    "\n",
    "using the rating column, check out products above and below the mean rating\n",
    "most bought brand...is it the one with the highest rating?"
   ]
  },
  {
   "cell_type": "code",
   "execution_count": 25,
   "metadata": {},
   "outputs": [
    {
     "data": {
      "text/html": [
       "<div>\n",
       "<style scoped>\n",
       "    .dataframe tbody tr th:only-of-type {\n",
       "        vertical-align: middle;\n",
       "    }\n",
       "\n",
       "    .dataframe tbody tr th {\n",
       "        vertical-align: top;\n",
       "    }\n",
       "\n",
       "    .dataframe thead th {\n",
       "        text-align: right;\n",
       "    }\n",
       "</style>\n",
       "<table border=\"1\" class=\"dataframe\">\n",
       "  <thead>\n",
       "    <tr style=\"text-align: right;\">\n",
       "      <th></th>\n",
       "      <th>brand</th>\n",
       "      <th>current_price</th>\n",
       "      <th>old_price</th>\n",
       "      <th>discount</th>\n",
       "      <th>description</th>\n",
       "      <th>ratings</th>\n",
       "      <th>times_reviewed</th>\n",
       "      <th>rom</th>\n",
       "      <th>ram</th>\n",
       "      <th>battery</th>\n",
       "      <th>camera</th>\n",
       "      <th>sim port</th>\n",
       "      <th>screen_dim</th>\n",
       "      <th>android_ver</th>\n",
       "    </tr>\n",
       "  </thead>\n",
       "  <tbody>\n",
       "    <tr>\n",
       "      <th>0</th>\n",
       "      <td>Gionee</td>\n",
       "      <td>48000</td>\n",
       "      <td>73630</td>\n",
       "      <td>-35</td>\n",
       "      <td>Gionee K3 (M100) 4GB+64GB 6.22 Inch HD+ Androi...</td>\n",
       "      <td>3.50</td>\n",
       "      <td>10</td>\n",
       "      <td>64.0</td>\n",
       "      <td>4.0</td>\n",
       "      <td>5000.0</td>\n",
       "      <td>13.0</td>\n",
       "      <td>Dual SIM</td>\n",
       "      <td>6.22</td>\n",
       "      <td>8.1</td>\n",
       "    </tr>\n",
       "    <tr>\n",
       "      <th>1</th>\n",
       "      <td>Nokia</td>\n",
       "      <td>59520</td>\n",
       "      <td>119660</td>\n",
       "      <td>-50</td>\n",
       "      <td>7， 5.2-inch (4GB, 64GB ROM) Android 7.1, 16MP ...</td>\n",
       "      <td>3.80</td>\n",
       "      <td>10</td>\n",
       "      <td>64.0</td>\n",
       "      <td>4.0</td>\n",
       "      <td>3000.0</td>\n",
       "      <td>16.0</td>\n",
       "      <td>Dual Sim</td>\n",
       "      <td>5.20</td>\n",
       "      <td>7.1</td>\n",
       "    </tr>\n",
       "    <tr>\n",
       "      <th>2</th>\n",
       "      <td>UMIDIGI</td>\n",
       "      <td>25990</td>\n",
       "      <td>29990</td>\n",
       "      <td>-13</td>\n",
       "      <td>A3S Android 10 Global Band 3950mAh 5.7\" Smartp...</td>\n",
       "      <td>4.30</td>\n",
       "      <td>99</td>\n",
       "      <td>32.0</td>\n",
       "      <td>4.0</td>\n",
       "      <td>3950.0</td>\n",
       "      <td>13.0</td>\n",
       "      <td>Triple Slots</td>\n",
       "      <td>5.70</td>\n",
       "      <td>10.0</td>\n",
       "    </tr>\n",
       "    <tr>\n",
       "      <th>3</th>\n",
       "      <td>Nokia</td>\n",
       "      <td>42990</td>\n",
       "      <td>70485</td>\n",
       "      <td>-39</td>\n",
       "      <td>3.2 3GB RAM 32GB 6.26 Inch 13MP Camera Dual SI...</td>\n",
       "      <td>4.05</td>\n",
       "      <td>104</td>\n",
       "      <td>32.0</td>\n",
       "      <td>3.0</td>\n",
       "      <td>4000.0</td>\n",
       "      <td>13.0</td>\n",
       "      <td>Dual SIM</td>\n",
       "      <td>6.26</td>\n",
       "      <td>9.0</td>\n",
       "    </tr>\n",
       "    <tr>\n",
       "      <th>4</th>\n",
       "      <td>UMIDIGI</td>\n",
       "      <td>25990</td>\n",
       "      <td>29990</td>\n",
       "      <td>-13</td>\n",
       "      <td>A3S Android 10 Global Band 3950mAh 5.7\" Smartp...</td>\n",
       "      <td>3.90</td>\n",
       "      <td>148</td>\n",
       "      <td>32.0</td>\n",
       "      <td>4.0</td>\n",
       "      <td>3950.0</td>\n",
       "      <td>13.0</td>\n",
       "      <td>Triple Slots</td>\n",
       "      <td>5.70</td>\n",
       "      <td>10.0</td>\n",
       "    </tr>\n",
       "  </tbody>\n",
       "</table>\n",
       "</div>"
      ],
      "text/plain": [
       "     brand  current_price  old_price discount  \\\n",
       "0   Gionee          48000      73630      -35   \n",
       "1    Nokia          59520     119660      -50   \n",
       "2  UMIDIGI          25990      29990      -13   \n",
       "3    Nokia          42990      70485      -39   \n",
       "4  UMIDIGI          25990      29990      -13   \n",
       "\n",
       "                                         description  ratings  times_reviewed  \\\n",
       "0  Gionee K3 (M100) 4GB+64GB 6.22 Inch HD+ Androi...     3.50              10   \n",
       "1  7， 5.2-inch (4GB, 64GB ROM) Android 7.1, 16MP ...     3.80              10   \n",
       "2  A3S Android 10 Global Band 3950mAh 5.7\" Smartp...     4.30              99   \n",
       "3  3.2 3GB RAM 32GB 6.26 Inch 13MP Camera Dual SI...     4.05             104   \n",
       "4  A3S Android 10 Global Band 3950mAh 5.7\" Smartp...     3.90             148   \n",
       "\n",
       "    rom  ram  battery  camera      sim port  screen_dim  android_ver  \n",
       "0  64.0  4.0   5000.0    13.0      Dual SIM        6.22          8.1  \n",
       "1  64.0  4.0   3000.0    16.0      Dual Sim        5.20          7.1  \n",
       "2  32.0  4.0   3950.0    13.0  Triple Slots        5.70         10.0  \n",
       "3  32.0  3.0   4000.0    13.0      Dual SIM        6.26          9.0  \n",
       "4  32.0  4.0   3950.0    13.0  Triple Slots        5.70         10.0  "
      ]
     },
     "execution_count": 25,
     "metadata": {},
     "output_type": "execute_result"
    }
   ],
   "source": [
    "data.head()"
   ]
  },
  {
   "cell_type": "code",
   "execution_count": 26,
   "metadata": {},
   "outputs": [
    {
     "data": {
      "text/plain": [
       "array([ 64.,  32.,  16., 128., 256.,   8.,   4.])"
      ]
     },
     "execution_count": 26,
     "metadata": {},
     "output_type": "execute_result"
    }
   ],
   "source": [
    "data.rom.unique()"
   ]
  },
  {
   "cell_type": "code",
   "execution_count": 27,
   "metadata": {},
   "outputs": [
    {
     "data": {
      "text/plain": [
       "array([ 4.,  3.,  1.,  2.,  6., 12.,  8.])"
      ]
     },
     "execution_count": 27,
     "metadata": {},
     "output_type": "execute_result"
    }
   ],
   "source": [
    "data.ram.unique()"
   ]
  },
  {
   "cell_type": "code",
   "execution_count": 28,
   "metadata": {},
   "outputs": [],
   "source": [
    "ram_group = data.groupby('ram')"
   ]
  },
  {
   "cell_type": "code",
   "execution_count": 29,
   "metadata": {},
   "outputs": [
    {
     "data": {
      "text/plain": [
       "ram\n",
       "12.0    4.750000\n",
       "6.0     4.378947\n",
       "8.0     4.266667\n",
       "1.0     4.207407\n",
       "4.0     4.140952\n",
       "3.0     4.104301\n",
       "2.0     4.101667\n",
       "Name: ratings, dtype: float64"
      ]
     },
     "execution_count": 29,
     "metadata": {},
     "output_type": "execute_result"
    }
   ],
   "source": [
    "ram_group['ratings'].mean().sort_values(ascending = False)"
   ]
  },
  {
   "cell_type": "code",
   "execution_count": 30,
   "metadata": {},
   "outputs": [
    {
     "data": {
      "text/plain": [
       "ram\n",
       "8.0     1.202712\n",
       "3.0     1.010479\n",
       "4.0     0.957138\n",
       "6.0     0.870795\n",
       "2.0     0.818844\n",
       "1.0     0.673306\n",
       "12.0    0.433013\n",
       "Name: ratings, dtype: float64"
      ]
     },
     "execution_count": 30,
     "metadata": {},
     "output_type": "execute_result"
    }
   ],
   "source": [
    "ram_group['ratings'].std().sort_values(ascending = False)"
   ]
  },
  {
   "cell_type": "code",
   "execution_count": 31,
   "metadata": {},
   "outputs": [],
   "source": [
    "rom_group = data.groupby('rom')"
   ]
  },
  {
   "cell_type": "code",
   "execution_count": 32,
   "metadata": {},
   "outputs": [
    {
     "data": {
      "text/plain": [
       "rom\n",
       "256.0    4.562500\n",
       "128.0    4.466667\n",
       "8.0      4.245000\n",
       "64.0     4.180573\n",
       "16.0     4.157407\n",
       "32.0     4.096257\n",
       "4.0      3.000000\n",
       "Name: ratings, dtype: float64"
      ]
     },
     "execution_count": 32,
     "metadata": {},
     "output_type": "execute_result"
    }
   ],
   "source": [
    "rom_group['ratings'].mean().sort_values(ascending = False)"
   ]
  },
  {
   "cell_type": "code",
   "execution_count": 33,
   "metadata": {},
   "outputs": [
    {
     "data": {
      "text/plain": [
       "rom\n",
       "4.0      2.828427\n",
       "32.0     1.040878\n",
       "64.0     0.911266\n",
       "128.0    0.795317\n",
       "16.0     0.663377\n",
       "8.0      0.628679\n",
       "256.0    0.515388\n",
       "Name: ratings, dtype: float64"
      ]
     },
     "execution_count": 33,
     "metadata": {},
     "output_type": "execute_result"
    }
   ],
   "source": [
    "rom_group['ratings'].std().sort_values(ascending = False)"
   ]
  },
  {
   "cell_type": "code",
   "execution_count": 34,
   "metadata": {},
   "outputs": [],
   "source": [
    "ram_rom = data['ram'].apply(lambda x: str(x))+'ram' + ' ' + data['rom'].apply(lambda x: str(x)) + 'rom'"
   ]
  },
  {
   "cell_type": "code",
   "execution_count": 35,
   "metadata": {},
   "outputs": [],
   "source": [
    "data['comb'] = ram_rom"
   ]
  },
  {
   "cell_type": "code",
   "execution_count": 36,
   "metadata": {},
   "outputs": [],
   "source": [
    "data['rating_times'] = data['ratings'] * data['times_reviewed']"
   ]
  },
  {
   "cell_type": "code",
   "execution_count": 37,
   "metadata": {},
   "outputs": [
    {
     "data": {
      "text/html": [
       "<div>\n",
       "<style scoped>\n",
       "    .dataframe tbody tr th:only-of-type {\n",
       "        vertical-align: middle;\n",
       "    }\n",
       "\n",
       "    .dataframe tbody tr th {\n",
       "        vertical-align: top;\n",
       "    }\n",
       "\n",
       "    .dataframe thead th {\n",
       "        text-align: right;\n",
       "    }\n",
       "</style>\n",
       "<table border=\"1\" class=\"dataframe\">\n",
       "  <thead>\n",
       "    <tr style=\"text-align: right;\">\n",
       "      <th></th>\n",
       "      <th>current_price</th>\n",
       "      <th>rating_times</th>\n",
       "    </tr>\n",
       "    <tr>\n",
       "      <th>comb</th>\n",
       "      <th></th>\n",
       "      <th></th>\n",
       "    </tr>\n",
       "  </thead>\n",
       "  <tbody>\n",
       "    <tr>\n",
       "      <th>1.0ram 16.0rom</th>\n",
       "      <td>36577.656250</td>\n",
       "      <td>310.895313</td>\n",
       "    </tr>\n",
       "    <tr>\n",
       "      <th>2.0ram 32.0rom</th>\n",
       "      <td>48645.880000</td>\n",
       "      <td>263.674000</td>\n",
       "    </tr>\n",
       "    <tr>\n",
       "      <th>1.0ram 8.0rom</th>\n",
       "      <td>25107.650000</td>\n",
       "      <td>139.622500</td>\n",
       "    </tr>\n",
       "    <tr>\n",
       "      <th>8.0ram 128.0rom</th>\n",
       "      <td>237473.875000</td>\n",
       "      <td>129.362500</td>\n",
       "    </tr>\n",
       "    <tr>\n",
       "      <th>4.0ram 128.0rom</th>\n",
       "      <td>141979.666667</td>\n",
       "      <td>114.433333</td>\n",
       "    </tr>\n",
       "    <tr>\n",
       "      <th>2.0ram 16.0rom</th>\n",
       "      <td>35482.028571</td>\n",
       "      <td>108.130000</td>\n",
       "    </tr>\n",
       "    <tr>\n",
       "      <th>4.0ram 64.0rom</th>\n",
       "      <td>77484.469565</td>\n",
       "      <td>105.783043</td>\n",
       "    </tr>\n",
       "    <tr>\n",
       "      <th>3.0ram 32.0rom</th>\n",
       "      <td>50573.424658</td>\n",
       "      <td>97.317808</td>\n",
       "    </tr>\n",
       "    <tr>\n",
       "      <th>4.0ram 32.0rom</th>\n",
       "      <td>60318.195402</td>\n",
       "      <td>86.216667</td>\n",
       "    </tr>\n",
       "    <tr>\n",
       "      <th>3.0ram 64.0rom</th>\n",
       "      <td>37385.375000</td>\n",
       "      <td>32.656250</td>\n",
       "    </tr>\n",
       "    <tr>\n",
       "      <th>4.0ram 16.0rom</th>\n",
       "      <td>19335.000000</td>\n",
       "      <td>29.775000</td>\n",
       "    </tr>\n",
       "    <tr>\n",
       "      <th>12.0ram 256.0rom</th>\n",
       "      <td>395000.000000</td>\n",
       "      <td>19.500000</td>\n",
       "    </tr>\n",
       "    <tr>\n",
       "      <th>6.0ram 64.0rom</th>\n",
       "      <td>102106.852941</td>\n",
       "      <td>14.127941</td>\n",
       "    </tr>\n",
       "    <tr>\n",
       "      <th>6.0ram 128.0rom</th>\n",
       "      <td>144528.476190</td>\n",
       "      <td>13.325000</td>\n",
       "    </tr>\n",
       "    <tr>\n",
       "      <th>8.0ram 256.0rom</th>\n",
       "      <td>322500.000000</td>\n",
       "      <td>7.000000</td>\n",
       "    </tr>\n",
       "    <tr>\n",
       "      <th>12.0ram 128.0rom</th>\n",
       "      <td>530000.000000</td>\n",
       "      <td>5.000000</td>\n",
       "    </tr>\n",
       "    <tr>\n",
       "      <th>3.0ram 16.0rom</th>\n",
       "      <td>44136.500000</td>\n",
       "      <td>4.583333</td>\n",
       "    </tr>\n",
       "    <tr>\n",
       "      <th>8.0ram 32.0rom</th>\n",
       "      <td>18995.000000</td>\n",
       "      <td>4.000000</td>\n",
       "    </tr>\n",
       "    <tr>\n",
       "      <th>1.0ram 4.0rom</th>\n",
       "      <td>23550.000000</td>\n",
       "      <td>3.000000</td>\n",
       "    </tr>\n",
       "  </tbody>\n",
       "</table>\n",
       "</div>"
      ],
      "text/plain": [
       "                  current_price  rating_times\n",
       "comb                                         \n",
       "1.0ram 16.0rom     36577.656250    310.895313\n",
       "2.0ram 32.0rom     48645.880000    263.674000\n",
       "1.0ram 8.0rom      25107.650000    139.622500\n",
       "8.0ram 128.0rom   237473.875000    129.362500\n",
       "4.0ram 128.0rom   141979.666667    114.433333\n",
       "2.0ram 16.0rom     35482.028571    108.130000\n",
       "4.0ram 64.0rom     77484.469565    105.783043\n",
       "3.0ram 32.0rom     50573.424658     97.317808\n",
       "4.0ram 32.0rom     60318.195402     86.216667\n",
       "3.0ram 64.0rom     37385.375000     32.656250\n",
       "4.0ram 16.0rom     19335.000000     29.775000\n",
       "12.0ram 256.0rom  395000.000000     19.500000\n",
       "6.0ram 64.0rom    102106.852941     14.127941\n",
       "6.0ram 128.0rom   144528.476190     13.325000\n",
       "8.0ram 256.0rom   322500.000000      7.000000\n",
       "12.0ram 128.0rom  530000.000000      5.000000\n",
       "3.0ram 16.0rom     44136.500000      4.583333\n",
       "8.0ram 32.0rom     18995.000000      4.000000\n",
       "1.0ram 4.0rom      23550.000000      3.000000"
      ]
     },
     "execution_count": 37,
     "metadata": {},
     "output_type": "execute_result"
    }
   ],
   "source": [
    "data.pivot_table(index = 'comb', values = ['rating_times', 'current_price']).sort_values('rating_times', ascending = False)"
   ]
  },
  {
   "cell_type": "code",
   "execution_count": 38,
   "metadata": {},
   "outputs": [
    {
     "data": {
      "text/plain": [
       "4.0ram 64.0rom      115\n",
       "4.0ram 32.0rom       87\n",
       "3.0ram 32.0rom       73\n",
       "6.0ram 128.0rom      42\n",
       "2.0ram 16.0rom       35\n",
       "6.0ram 64.0rom       34\n",
       "1.0ram 16.0rom       32\n",
       "2.0ram 32.0rom       25\n",
       "1.0ram 8.0rom        20\n",
       "3.0ram 16.0rom       12\n",
       "3.0ram 64.0rom        8\n",
       "8.0ram 128.0rom       8\n",
       "4.0ram 128.0rom       6\n",
       "4.0ram 16.0rom        2\n",
       "1.0ram 4.0rom         2\n",
       "12.0ram 256.0rom      2\n",
       "8.0ram 256.0rom       2\n",
       "8.0ram 32.0rom        2\n",
       "12.0ram 128.0rom      1\n",
       "Name: comb, dtype: int64"
      ]
     },
     "execution_count": 38,
     "metadata": {},
     "output_type": "execute_result"
    }
   ],
   "source": [
    "data['comb'].value_counts()"
   ]
  },
  {
   "cell_type": "code",
   "execution_count": null,
   "metadata": {},
   "outputs": [],
   "source": []
  },
  {
   "cell_type": "code",
   "execution_count": null,
   "metadata": {},
   "outputs": [],
   "source": []
  }
 ],
 "metadata": {
  "kernelspec": {
   "display_name": "Python 3",
   "language": "python",
   "name": "python3"
  },
  "language_info": {
   "codemirror_mode": {
    "name": "ipython",
    "version": 3
   },
   "file_extension": ".py",
   "mimetype": "text/x-python",
   "name": "python",
   "nbconvert_exporter": "python",
   "pygments_lexer": "ipython3",
   "version": "3.7.6"
  }
 },
 "nbformat": 4,
 "nbformat_minor": 2
}
